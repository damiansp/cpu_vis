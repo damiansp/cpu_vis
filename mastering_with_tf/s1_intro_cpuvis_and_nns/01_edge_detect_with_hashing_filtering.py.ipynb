{
 "cells": [
  {
   "cell_type": "code",
   "execution_count": 21,
   "id": "beautiful-saint",
   "metadata": {},
   "outputs": [],
   "source": [
    "#import distance # for hamming dist\n",
    "#import imagehash\n",
    "import cv2\n",
    "import matplotlib.pyplot as plt\n",
    "import numpy as np\n",
    "from   PIL import Image\n",
    "import scipy.spatial"
   ]
  },
  {
   "cell_type": "code",
   "execution_count": 5,
   "id": "bacterial-arlington",
   "metadata": {},
   "outputs": [
    {
     "name": "stdout",
     "output_type": "stream",
     "text": [
      "README.md         \u001b[34mimg\u001b[m\u001b[m               \u001b[34mmastering_with_tf\u001b[m\u001b[m\r\n"
     ]
    }
   ],
   "source": [
    "!ls ../.."
   ]
  },
  {
   "cell_type": "code",
   "execution_count": 6,
   "id": "sitting-bandwidth",
   "metadata": {},
   "outputs": [],
   "source": [
    "IMG = '../../img'"
   ]
  },
  {
   "cell_type": "code",
   "execution_count": 7,
   "id": "infrared-design",
   "metadata": {},
   "outputs": [],
   "source": [
    "me = Image.open(f'{IMG}/me.jpg')\n",
    "matt = Image.open(f'{IMG}/matt.jpg')"
   ]
  },
  {
   "cell_type": "code",
   "execution_count": 20,
   "id": "spanish-wellington",
   "metadata": {},
   "outputs": [],
   "source": [
    "#me"
   ]
  },
  {
   "cell_type": "code",
   "execution_count": 12,
   "id": "fabulous-sound",
   "metadata": {},
   "outputs": [],
   "source": [
    "#matt"
   ]
  },
  {
   "cell_type": "code",
   "execution_count": 19,
   "id": "boxed-illness",
   "metadata": {},
   "outputs": [
    {
     "data": {
      "text/plain": [
       "1.0"
      ]
     },
     "execution_count": 19,
     "metadata": {},
     "output_type": "execute_result"
    }
   ],
   "source": [
    "hash_me = imagehash.phash(me) # 'perpetual hash (cos transform)'\n",
    "hash_matt = imagehash.phash(matt)\n",
    "scipy.spatial.distance.hamming(hash_me, hash_matt)"
   ]
  },
  {
   "cell_type": "markdown",
   "id": "coastal-switzerland",
   "metadata": {},
   "source": [
    "### Creating an Image Vector"
   ]
  },
  {
   "cell_type": "code",
   "execution_count": 26,
   "id": "greek-referral",
   "metadata": {},
   "outputs": [],
   "source": [
    "#plt.imshow(me);"
   ]
  },
  {
   "cell_type": "code",
   "execution_count": 25,
   "id": "bibliographic-release",
   "metadata": {},
   "outputs": [
    {
     "data": {
      "text/plain": [
       "(238, 238, 3)"
      ]
     },
     "execution_count": 25,
     "metadata": {},
     "output_type": "execute_result"
    }
   ],
   "source": [
    "img_arr = np.asarray(me)\n",
    "img_arr.shape"
   ]
  },
  {
   "cell_type": "code",
   "execution_count": null,
   "id": "turned-donna",
   "metadata": {},
   "outputs": [],
   "source": []
  }
 ],
 "metadata": {
  "kernelspec": {
   "display_name": "Python 3",
   "language": "python",
   "name": "python3"
  },
  "language_info": {
   "codemirror_mode": {
    "name": "ipython",
    "version": 3
   },
   "file_extension": ".py",
   "mimetype": "text/x-python",
   "name": "python",
   "nbconvert_exporter": "python",
   "pygments_lexer": "ipython3",
   "version": "3.8.8"
  }
 },
 "nbformat": 4,
 "nbformat_minor": 5
}
