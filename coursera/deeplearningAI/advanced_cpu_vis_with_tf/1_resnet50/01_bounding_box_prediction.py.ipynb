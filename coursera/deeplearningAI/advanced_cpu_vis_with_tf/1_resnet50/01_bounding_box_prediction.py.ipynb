{
 "cells": [
  {
   "cell_type": "code",
   "execution_count": 4,
   "id": "needed-phenomenon",
   "metadata": {},
   "outputs": [
    {
     "ename": "ModuleNotFoundError",
     "evalue": "No module named 'tensorflow'",
     "output_type": "error",
     "traceback": [
      "\u001b[0;31m---------------------------------------------------------------------------\u001b[0m",
      "\u001b[0;31mModuleNotFoundError\u001b[0m                       Traceback (most recent call last)",
      "\u001b[0;32m/var/folders/41/jhvt_zmd3nz3x5jsqblr221r0000gn/T/ipykernel_53128/1084126714.py\u001b[0m in \u001b[0;36m<module>\u001b[0;34m\u001b[0m\n\u001b[1;32m      8\u001b[0m \u001b[0;32mimport\u001b[0m \u001b[0mnumpy\u001b[0m \u001b[0;32mas\u001b[0m \u001b[0mnp\u001b[0m\u001b[0;34m\u001b[0m\u001b[0;34m\u001b[0m\u001b[0m\n\u001b[1;32m      9\u001b[0m \u001b[0;32mfrom\u001b[0m   \u001b[0mPIL\u001b[0m \u001b[0;32mimport\u001b[0m \u001b[0mImage\u001b[0m\u001b[0;34m,\u001b[0m \u001b[0mImageDraw\u001b[0m\u001b[0;34m,\u001b[0m \u001b[0mImageFont\u001b[0m\u001b[0;34m\u001b[0m\u001b[0;34m\u001b[0m\u001b[0m\n\u001b[0;32m---> 10\u001b[0;31m \u001b[0;32mimport\u001b[0m \u001b[0mtensorflow\u001b[0m \u001b[0;32mas\u001b[0m \u001b[0mtf\u001b[0m\u001b[0;34m\u001b[0m\u001b[0;34m\u001b[0m\u001b[0m\n\u001b[0m\u001b[1;32m     11\u001b[0m \u001b[0;32mimport\u001b[0m \u001b[0mtensorflow_datasets\u001b[0m \u001b[0;32mas\u001b[0m \u001b[0mtfds\u001b[0m\u001b[0;34m\u001b[0m\u001b[0;34m\u001b[0m\u001b[0m\n",
      "\u001b[0;31mModuleNotFoundError\u001b[0m: No module named 'tensorflow'"
     ]
    }
   ],
   "source": [
    "import json\n",
    "import os \n",
    "import re \n",
    "import time\n",
    "\n",
    "import cv2\n",
    "from   matplotlib import pyplot as plt\n",
    "import numpy as np\n",
    "from   PIL import Image, ImageDraw, ImageFont\n",
    "import tensorflow as tf\n",
    "import tensorflow_datasets as tfds"
   ]
  },
  {
   "cell_type": "code",
   "execution_count": 2,
   "id": "b81fd754",
   "metadata": {},
   "outputs": [
    {
     "data": {
      "text/plain": [
       "'/Library/Frameworks/Python.framework/Versions/3.10/bin'"
      ]
     },
     "execution_count": 2,
     "metadata": {},
     "output_type": "execute_result"
    }
   ],
   "source": [
    "import sys\n",
    "os.path.dirname(sys.executable)"
   ]
  },
  {
   "cell_type": "code",
   "execution_count": 6,
   "id": "temporal-graduation",
   "metadata": {},
   "outputs": [],
   "source": [
    "# matplotlib config\n",
    "plt.rc('image', cmap='gray')\n",
    "plt.rc('grid', linewidth=0)\n",
    "plt.rc('xtick', top=False, bottom=False, labelsize='large')\n",
    "plt.rc('ytick', left=False, right=False, labelsize='large')\n",
    "plt.rc('axes', facecolor='F8F8F8', titlesize='large', edgecolor='white')\n",
    "plt.rc('text', color='a8151a')\n",
    "plt.rc('figure', facecolor='F0F0F0')"
   ]
  },
  {
   "cell_type": "code",
   "execution_count": 2,
   "id": "executed-appearance",
   "metadata": {},
   "outputs": [],
   "source": [
    "IMG_DIR = '../../../img'\n",
    "DATA = f'{IMG_DIR}/bounding_box'"
   ]
  },
  {
   "cell_type": "code",
   "execution_count": 14,
   "id": "great-profile",
   "metadata": {},
   "outputs": [],
   "source": [
    "def draw_bounding_box(\n",
    "        img, ymin, xmin, ymax, xmax, color=(255, 0, 0), thickness=5):\n",
    "    '''\n",
    "    Adds a bounding box to an image.\n",
    "    \n",
    "    Args:\n",
    "      image: a PIL.Image object.\n",
    "      xmin, ymin, xmax, ymax: limits of bounding box.\n",
    "      color: color to draw bounding box.\n",
    "      thickness: line thickness.\n",
    "    '''\n",
    "    img_w, img_h = img.shape\n",
    "    cv2.rectangle(img, \n",
    "                  (int(xmin), int(ymin)), \n",
    "                  (int(xmax), int(ymax)), \n",
    "                  color,\n",
    "                  thickness)"
   ]
  },
  {
   "cell_type": "code",
   "execution_count": 15,
   "id": "applicable-stand",
   "metadata": {},
   "outputs": [],
   "source": [
    "def draw_bounding_boxes(img, boxes, color=[], thickness=5):\n",
    "    '''\n",
    "    Draws bounding boxes on image.\n",
    "    \n",
    "    Args:\n",
    "      image: a PIL.Image object.\n",
    "      boxes: a 2 dimensional numpy array of [N, 4]: \n",
    "        (xmin, ymin, xmax, ymax).\n",
    "        The coordinates are in normalized format between [0, 1].\n",
    "      color: color to draw bounding box\n",
    "      thickness: line thickness\n",
    "                           \n",
    "    Raises:\n",
    "      ValueError: if boxes is not a [N, 4] array\n",
    "    '''\n",
    "    boxes_shape = boxes.shape\n",
    "    if not boxes_shape:\n",
    "        return\n",
    "    if len(boxes_shape) != 2 or boxes_shape[1] != 4:\n",
    "        raise ValueError('boxes must be of size [N, 4]')\n",
    "    for i in range(boxes_shpae[0]):\n",
    "        draw_bounding_box(img, \n",
    "                          boxes[i, 1], \n",
    "                          boxes[i, 0],\n",
    "                          boxes[i, 3],\n",
    "                          boxes[i, 2],\n",
    "                          color[i],\n",
    "                          thickness)"
   ]
  },
  {
   "cell_type": "code",
   "execution_count": 5,
   "id": "defined-tension",
   "metadata": {},
   "outputs": [],
   "source": [
    "def draw_bounding_boxes_on_img_array(img, boxes, color=[], thickness=5):\n",
    "    '''\n",
    "    Draws bounding boxes on image (numpy array).\n",
    "\n",
    "    Args:\n",
    "      image: a numpy array object.\n",
    "      boxes: a 2 dimensional numpy array of [N, 4]: \n",
    "        (xmin, ymin, xmax, ymax).\n",
    "        The coordinates are in normalized format between [0, 1].\n",
    "      color: color to draw bounding box\n",
    "      thickness: line thickness\n",
    "    \n",
    "    Raises:\n",
    "      ValueError: if boxes is not a [N, 4] array\n",
    "    '''\n",
    "    draw_bounding_boxes(img, boxes, color, thickness)\n",
    "    return img"
   ]
  },
  {
   "cell_type": "code",
   "execution_count": 8,
   "id": "saved-associate",
   "metadata": {},
   "outputs": [],
   "source": [
    "def display_digits_with_boxes(\n",
    "        imgs, pred_boxes, boxes, iou, title): #, boxes_normed=False):\n",
    "    n = len(imgs)\n",
    "    fig = plt.figure(figsize=(20, 4))\n",
    "    plt.title(title)\n",
    "    plt.xticks([])\n",
    "    plt.yticks([])\n",
    "    for i in range(n):\n",
    "        ax = fig.add_subplot(1, 10, i + 1)\n",
    "        boxes_to_plot = []\n",
    "        if (len(pred_boxes) > i):\n",
    "            box = pred_boxes[i]\n",
    "            box = [bbox[0] * images[i].shape[1], \n",
    "                   bbox[1] * images[i].shape[0], \n",
    "                   bbox[2] * images[i].shape[1], \n",
    "                   bbox[3] * images[i].shape[0]]\n",
    "            boxes_to_plot.append(box)\n",
    "        img_to_draw = draw_bounding_boxes_on_img_array(\n",
    "            img=imgs[i], \n",
    "            boxes=np.asarray(boxes_to_plot), \n",
    "            color=[(255, 0, 0), (0, 255, 0)])\n",
    "        plt.xticks([])\n",
    "        plt.yticks([])\n",
    "        plt.imshow(img_to_draw)\n",
    "        if len(iou) > i:\n",
    "            color = 'black'\n",
    "            #if (iou[i][0] < iou_thresh):\n",
    "            #    color = 'red'\n",
    "            ax.text(0.2, \n",
    "                    -0.3, \n",
    "                    f'iou: {iou[i][0]}', \n",
    "                    color=color, \n",
    "                    transform=ax.transAxes)"
   ]
  },
  {
   "cell_type": "code",
   "execution_count": 9,
   "id": "animal-running",
   "metadata": {},
   "outputs": [],
   "source": [
    "def plot_metrics(history, metric_name, title, ylim=5):\n",
    "    plt.title(title)\n",
    "    plt.ylim(0, ylim)\n",
    "    plt.plot(\n",
    "        history.history[metric_name], color='blue', label=metric_name)\n",
    "    val_name = f'val_{metric_name}'\n",
    "    plt.plot(\n",
    "        history.history[val_name], color='green', label=val_name)"
   ]
  },
  {
   "cell_type": "markdown",
   "id": "dangerous-tracker",
   "metadata": {},
   "source": [
    "# Load and Preprocess"
   ]
  },
  {
   "cell_type": "code",
   "execution_count": 10,
   "id": "abstract-announcement",
   "metadata": {},
   "outputs": [],
   "source": [
    "def read_img_tfds(img, box):\n",
    "    img = tf.cast(img, tf.float32)\n",
    "    shape = tf.shape(img)\n",
    "    x_factor = tf.cast(shape[1], tf.float32)\n",
    "    y_factor = tf.cast(shape[0], tf.float32)\n",
    "    img = tf.image.resize(img, (224, 224,))\n",
    "    img /= 127.5\n",
    "    img -= 1\n",
    "    box_list = [box[0] / x_factor, \n",
    "                box[1] / y_factor, \n",
    "                box[2] / x_factor, \n",
    "                box[3] / y_factor]\n",
    "    return img, box_list"
   ]
  },
  {
   "cell_type": "code",
   "execution_count": 11,
   "id": "peaceful-acceptance",
   "metadata": {},
   "outputs": [],
   "source": [
    "def read_img_with_shape(img, box):\n",
    "    orig_img = img\n",
    "    img, box_list = read_img_tfds(img, box)\n",
    "    return orig_img, img, box_list"
   ]
  },
  {
   "cell_type": "code",
   "execution_count": 13,
   "id": "descending-making",
   "metadata": {},
   "outputs": [],
   "source": [
    "def read_img_tfds_with_original_box(data):\n",
    "    img = data['image']\n",
    "    box = data['bbox']\n",
    "    shape = tf.shape(image)\n",
    "    x_factor, y_factor = [tf.cast(shape[d], tf.float32) for d in [1, 0]]\n",
    "    box_list = [box[1] * x_factor,\n",
    "                box[0] * y_factor,\n",
    "                box[3] * x_factor,\n",
    "                box[2] * y_factor]\n",
    "    return img, box_list"
   ]
  },
  {
   "cell_type": "code",
   "execution_count": 2,
   "id": "817ba042",
   "metadata": {},
   "outputs": [],
   "source": [
    "SHUFFLE_BUFF = 1024"
   ]
  },
  {
   "cell_type": "code",
   "execution_count": 3,
   "id": "front-sleeve",
   "metadata": {},
   "outputs": [],
   "source": [
    "def dataset_to_numpy_util(dataset, batch_size=0, n=0):\n",
    "    # eager execution: loop through data normally\n",
    "    take_dataset = dataset.shuffle(SHUFFLE_BUFF)\n",
    "    if batch_size:\n",
    "        take_dataset = take_dataset.batch(batch_size)\n",
    "    if n:\n",
    "        take_dataset = take_dataset.take(n)\n",
    "    if tf.executing_eagerly():\n",
    "        ds_imgs, ds_boxes = [], []\n",
    "        for imgs, boxes in take_dataset:\n",
    "            ds_imgs.append(imgs.numpy())\n",
    "            ds_boxes.append(boxes.numpy())\n",
    "    return (np.array(ds_imgs), np.array(ds_boxes))"
   ]
  },
  {
   "cell_type": "code",
   "execution_count": 4,
   "id": "333ee89f",
   "metadata": {},
   "outputs": [],
   "source": [
    "def dataset_to_numpy_with_original_boxes_util(\n",
    "        dataset, batch_size=0, n=0):\n",
    "    normed_ds = dataset.map(read_img_with_shape)\n",
    "    if batch_size:\n",
    "        normed_ds = normed_ds.batch(batch_size)\n",
    "    if n:\n",
    "        normed_ds = normed_ds.take(n)\n",
    "    if tf.executing_eagerl():\n",
    "        ds_orig_imgs, ds_imgs, ds_boxes = [], [], []\n",
    "        for o, i, b in normed_ds:\n",
    "            ds_orig_imgs.append(o.numpy())\n",
    "            ds_images.append(i.numpy())\n",
    "            ds_boxes.append(b.numpy)\n",
    "    return np.array(ds_orig_imgs), np.array(ds_imgs), np.array(ds_boxes)"
   ]
  },
  {
   "cell_type": "code",
   "execution_count": 5,
   "id": "77955948",
   "metadata": {},
   "outputs": [],
   "source": [
    "def get_vis_training_dataset():\n",
    "    ds, info = tfds.load('caltech_birds2010', \n",
    "                         split='train', \n",
    "                         with_info=True, \n",
    "                         data_dir=IMG_DIR, \n",
    "                         download=False)\n",
    "    print(info)\n",
    "    vis_training_ts = ds.map(read_img_tfds_with_original_box,\n",
    "                             n_parallel_cals=16)\n",
    "    return vis_training_ds"
   ]
  },
  {
   "cell_type": "code",
   "execution_count": null,
   "id": "eb264000",
   "metadata": {},
   "outputs": [],
   "source": []
  }
 ],
 "metadata": {
  "kernelspec": {
   "display_name": "Python 3 (ipykernel)",
   "language": "python",
   "name": "python3"
  },
  "language_info": {
   "codemirror_mode": {
    "name": "ipython",
    "version": 3
   },
   "file_extension": ".py",
   "mimetype": "text/x-python",
   "name": "python",
   "nbconvert_exporter": "python",
   "pygments_lexer": "ipython3",
   "version": "3.10.0"
  }
 },
 "nbformat": 4,
 "nbformat_minor": 5
}
