{
 "cells": [
  {
   "cell_type": "code",
   "execution_count": 1,
   "id": "needed-phenomenon",
   "metadata": {},
   "outputs": [],
   "source": [
    "import json\n",
    "import os \n",
    "import re \n",
    "import time\n",
    "\n",
    "import cv2\n",
    "from   matplotlib import pyplot as plt\n",
    "import numpy as np\n",
    "from   PIL import Image, ImageDraw, ImageFont\n",
    "import tensorflow as tf\n",
    "import tensorflow_datasets as tfds"
   ]
  },
  {
   "cell_type": "code",
   "execution_count": 7,
   "id": "executed-appearance",
   "metadata": {},
   "outputs": [],
   "source": [
    "IMG_DIR = '../../../img'\n",
    "DATA = f'{IMG_DIR}/bounding_box'"
   ]
  },
  {
   "cell_type": "code",
   "execution_count": 8,
   "id": "great-profile",
   "metadata": {},
   "outputs": [],
   "source": [
    "def draw_bounding_box(\n",
    "        img, xmin, ymin, xmax, ymax, color=(255, 0, 0), thickness=5):\n",
    "    '''\n",
    "    Adds a bounding box to an image.\n",
    "    \n",
    "    Args:\n",
    "      image: a PIL.Image object.\n",
    "      xmin, ymin, xmax, ymax: limits of bounding box.\n",
    "      color: color to draw bounding box.\n",
    "      thickness: line thickness.\n",
    "    '''\n",
    "    img_w, img_h = img.shape\n",
    "    cv2.rectangle(img, \n",
    "                  (int(xmin), int(ymin)), \n",
    "                  (int(xmax), int(ymax)), \n",
    "                  color,\n",
    "                  thickness)"
   ]
  },
  {
   "cell_type": "code",
   "execution_count": 9,
   "id": "applicable-stand",
   "metadata": {},
   "outputs": [],
   "source": [
    "def draw_bounding_boxes(img, boxes, color=[], thickness=5):\n",
    "    '''\n",
    "    Draws bounding boxes on image.\n",
    "    \n",
    "    Args:\n",
    "      image: a PIL.Image object.\n",
    "      boxes: a 2 dimensional numpy array of [N, 4]: \n",
    "        (xmin, ymin, xmax, ymax).\n",
    "        The coordinates are in normalized format between [0, 1].\n",
    "      color: color to draw bounding box\n",
    "      thickness: line thickness\n",
    "                           \n",
    "    Raises:\n",
    "      ValueError: if boxes is not a [N, 4] array\n",
    "    '''\n",
    "    boxes_shape = boxes.shape\n",
    "    if not boxes_shape:\n",
    "        return\n",
    "    if len(boxes_shape) != 2 or boxes_shape[1] != 4:\n",
    "        raise ValueError('boxes must be of size [N, 4]')\n",
    "    for i in range(boxes_shpae[0]):\n",
    "        draw_bounding_box(img, \n",
    "                          boxes[i, 0], \n",
    "                          boxes[i, 1],\n",
    "                          boxes[i, 2],\n",
    "                          boxes[i, 3],\n",
    "                          color[i],\n",
    "                          thickness)"
   ]
  },
  {
   "cell_type": "code",
   "execution_count": 11,
   "id": "defined-tension",
   "metadata": {},
   "outputs": [],
   "source": [
    "def draw_bounding_boxes_on_img_array(img, boxes, color=[], thickness=5):\n",
    "    '''\n",
    "    Draws bounding boxes on image (numpy array).\n",
    "\n",
    "    Args:\n",
    "      image: a numpy array object.\n",
    "      boxes: a 2 dimensional numpy array of [N, 4]: \n",
    "        (xmin, ymin, xmax, ymax).\n",
    "        The coordinates are in normalized format between [0, 1].\n",
    "      color: color to draw bounding box\n",
    "      thickness: line thickness\n",
    "    \n",
    "    Raises:\n",
    "      ValueError: if boxes is not a [N, 4] array\n",
    "    '''\n",
    "    draw_bounding_boxes(img, boxes, color, thickness)\n",
    "    return img"
   ]
  },
  {
   "cell_type": "code",
   "execution_count": null,
   "id": "saved-associate",
   "metadata": {},
   "outputs": [],
   "source": []
  }
 ],
 "metadata": {
  "kernelspec": {
   "display_name": "Python 3",
   "language": "python",
   "name": "python3"
  },
  "language_info": {
   "codemirror_mode": {
    "name": "ipython",
    "version": 3
   },
   "file_extension": ".py",
   "mimetype": "text/x-python",
   "name": "python",
   "nbconvert_exporter": "python",
   "pygments_lexer": "ipython3",
   "version": "3.8.8"
  }
 },
 "nbformat": 4,
 "nbformat_minor": 5
}
