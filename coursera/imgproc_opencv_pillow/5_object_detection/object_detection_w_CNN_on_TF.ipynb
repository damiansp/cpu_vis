{
 "cells": [
  {
   "cell_type": "code",
   "execution_count": null,
   "id": "05d0a5e3",
   "metadata": {},
   "outputs": [],
   "source": [
    "!pip install --no-deps lvis\n",
    "!pip install tf_slim\n",
    "!pip install --no-deps tensorflowjs==1.4.0\n",
    "!pip install tensorflow==1.15.2\n",
    "!pip install tensorflow_hub"
   ]
  },
  {
   "cell_type": "code",
   "execution_count": null,
   "id": "71a179b8",
   "metadata": {},
   "outputs": [],
   "source": [
    "from base64 import b64decode\n",
    "from datetime import datetime\n",
    "import io\n",
    "import json\n",
    "import os\n",
    "import random\n",
    "import re\n",
    "import sys\n",
    "import tarfile\n",
    "import zipfile\n",
    "from zipfile import ZipFile\n",
    "\n",
    "from IPython.display import display, Javascript, Image\n",
    "import numpy as np\n",
    "from object_detection.utils import (\n",
    "    dataset_util, label_map_util, config_util)\n",
    "from object_detection.utils.label_map_util import get_label_map_dict\n",
    "import six.moves.urllib as urllib\n",
    "from skillsnetwork import cvstudio\n",
    "import tensorflow as tf\n",
    "from tfrecord import create_tf_record, displaydetectedobject\n",
    "from PIL import Image"
   ]
  },
  {
   "cell_type": "code",
   "execution_count": null,
   "id": "47c25c3e",
   "metadata": {},
   "outputs": [],
   "source": [
    "if os.path.exists(\"content-latest.zip\"):\n",
    "    pass\n",
    "else:\n",
    "    !wget https://s3.us.cloud-object-storage.appdomain.cloud/cf-courses-data/CognitiveClass/CV0101/content/data/content-latest.zip\n",
    "    !wget https://s3.us.cloud-object-storage.appdomain.cloud/cf-courses-data/CognitiveClass/CV0101/content/data/tfrecord.py\n",
    "    \n",
    "with zipfile.ZipFile('content-latest.zip', 'r') as zip_ref:\n",
    "    zip_ref.extractall('')"
   ]
  },
  {
   "cell_type": "code",
   "execution_count": null,
   "id": "169e56f0",
   "metadata": {},
   "outputs": [],
   "source": [
    "cvstudioClient = cvstudio.CVStudio()\n",
    "cvstudioClient.downloadAll()"
   ]
  },
  {
   "cell_type": "code",
   "execution_count": null,
   "id": "acea91ad",
   "metadata": {},
   "outputs": [],
   "source": [
    "annotations = cvstudioClient.get_annotations()\n",
    "labels = annotations['labels']"
   ]
  },
  {
   "cell_type": "code",
   "execution_count": null,
   "id": "312979d8",
   "metadata": {},
   "outputs": [],
   "source": [
    "CHECKPOINT_PATH = os.path.join(os.getcwd(),'content/checkpoint')\n",
    "OUTPUT_PATH = os.path.join(os.getcwd(),'content/output')\n",
    "EXPORTED_PATH = os.path.join(os.getcwd(),'content/exported')\n",
    "DATA_PATH = os.path.join(os.getcwd(),'content/data')\n",
    "CONFIG_PATH = os.path.join(os.getcwd(),'content/config')\n",
    "LABEL_MAP_PATH = os.path.join(DATA_PATH, 'label_map.pbtxt')\n",
    "TRAIN_RECORD_PATH = os.path.join(DATA_PATH, 'train.record')\n",
    "VAL_RECORD_PATH = os.path.join(DATA_PATH, 'val.record')"
   ]
  },
  {
   "cell_type": "code",
   "execution_count": null,
   "id": "4a4e9cbf",
   "metadata": {},
   "outputs": [],
   "source": [
    "os.makedirs(DATA_PATH, exist_ok=True)\n",
    "with open(LABEL_MAP_PATH, 'w') as f:\n",
    "    for idx, label in enumerate(labels):\n",
    "        f.write('item {\\n')\n",
    "        f.write(\"\\tname: '{}'\\n\".format(label))\n",
    "        f.write('\\tid: {}\\n'.format(idx + 1))\n",
    "        f.write('}\\n')"
   ]
  },
  {
   "cell_type": "code",
   "execution_count": null,
   "id": "5c3882a5",
   "metadata": {},
   "outputs": [],
   "source": [
    "image_files = [image for image in annotations[\"annotations\"].keys()]\n",
    "label_map = label_map_util.get_label_map_dict(LABEL_MAP_PATH)\n",
    "random.seed(42)\n",
    "random.shuffle(image_files)\n",
    "num_train = int(0.7 * len(image_files))\n",
    "train_examples = image_files[:num_train]\n",
    "val_examples = image_files[num_train:]\n",
    "create_tf_record(\n",
    "    train_examples,\n",
    "    annotations[\"annotations\"],\n",
    "    label_map,\n",
    "    os.path.join(os.getcwd(),'images'),\n",
    "    TRAIN_RECORD_PATH)\n",
    "create_tf_record(\n",
    "    val_examples, \n",
    "    annotations[\"annotations\"],\n",
    "    label_map,\n",
    "    os.path.join(os.getcwd(),'images'),\n",
    "    VAL_RECORD_PATH)"
   ]
  },
  {
   "cell_type": "code",
   "execution_count": null,
   "id": "ae3d66a4",
   "metadata": {},
   "outputs": [],
   "source": [
    "MODEL_TYPE = 'ssd_mobilenet_v1_quantized_300x300_coco14_sync_2018_07_18'\n",
    "CONFIG_TYPE = 'ssd_mobilenet_v1_quantized_300x300_coco14_sync'\n",
    "download_base = (\n",
    "    'http://download.tensorflow.org/models/object_detection/')\n",
    "model = MODEL_TYPE + '.tar.gz'\n",
    "tmp = '/resources/checkpoint.tar.gz'\n",
    "if not (os.path.exists(CHECKPOINT_PATH)):\n",
    "    # Download the checkpoint\n",
    "    opener = urllib.request.URLopener()\n",
    "    opener.retrieve(download_base + model, tmp)\n",
    "    with tarfile.open(tmp) as tar:\n",
    "        for member in tar.getmembers():\n",
    "            member.name = os.path.basename(member.name)\n",
    "            if 'model.ckpt' in member.name:\n",
    "                tar.extract(member, path=CHECKPOINT_PATH)\n",
    "            if 'pipeline.config' in member.name:\n",
    "                tar.extract(member, path=CONFIG_PATH)\n",
    "    os.remove(tmp)"
   ]
  },
  {
   "cell_type": "code",
   "execution_count": null,
   "id": "622722bd",
   "metadata": {},
   "outputs": [],
   "source": [
    "pipeline_skeleton = (\n",
    "    'content/models/research/object_detection/samples/configs/'\n",
    "    + CONFIG_TYPE\n",
    "    + '.config')\n",
    "configs = config_util.get_configs_from_pipeline_file(pipeline_skeleton)\n",
    "label_map = label_map_util.get_label_map_dict(LABEL_MAP_PATH)\n",
    "num_classes = len(label_map.keys())\n",
    "meta_arch = configs[\"model\"].WhichOneof(\"model\")\n",
    "override_dict = {\n",
    "  'model.{}.num_classes'.format(meta_arch): num_classes,\n",
    "  'train_config.batch_size': 6,\n",
    "  'train_input_path': TRAIN_RECORD_PATH,\n",
    "  'eval_input_path': VAL_RECORD_PATH,\n",
    "  'train_config.fine_tune_checkpoint': os.path.join(\n",
    "      CHECKPOINT_PATH, 'model.ckpt'),\n",
    "  'label_map_path': LABEL_MAP_PATH}\n",
    "configs = config_util.merge_external_params_with_configs(\n",
    "    configs, kwargs_dict=override_dict)\n",
    "pipeline_config = config_util.create_pipeline_proto_from_configs(\n",
    "    configs)\n",
    "config_util.save_pipeline_config(pipeline_config, DATA_PATH)"
   ]
  },
  {
   "cell_type": "code",
   "execution_count": null,
   "id": "84f0499e",
   "metadata": {},
   "outputs": [],
   "source": [
    "paths = [\n",
    "    f'home/jupyterlab/conda/envs/python/lib/python3.6',\n",
    "    f'content/models/research',\n",
    "    f'content/models/research/slim']\n",
    "os.environ['PYTHONPATH'] = ':'.join(paths)"
   ]
  },
  {
   "cell_type": "code",
   "execution_count": null,
   "id": "ea3f3637",
   "metadata": {},
   "outputs": [],
   "source": [
    "%%capture\n",
    "epochs = 40\n",
    "start_datetime = datetime.now()\n",
    "!python -m object_detection.model_main \\\n",
    "    --pipeline_config_path=$DATA_PATH/pipeline.config \\\n",
    "    --num_train_steps=$epochs \\\n",
    "    --num_eval_steps=100\n",
    "\n",
    "regex = re.compile(r\"model\\.ckpt-([0-9]+)\\.index\")\n",
    "numbers = [\n",
    "    int(regex.search(f).group(1)) for f in os.listdir(OUTPUT_PATH)\n",
    "    if regex.search(f)]\n",
    "TRAINED_CHECKPOINT_PREFIX = os.path.join(\n",
    "    OUTPUT_PATH, 'model.ckpt-{}'.format(max(numbers)))\n",
    "\n",
    "!python3 -m object_detection.export_inference_graph \\\n",
    "  --pipeline_config_path=$DATA_PATH/pipeline.config \\\n",
    "  --trained_checkpoint_prefix=$TRAINED_CHECKPOINT_PREFIX \\\n",
    "  --output_directory=$EXPORTED_PATH\n",
    "end_datetime = datetime.now()"
   ]
  },
  {
   "cell_type": "code",
   "execution_count": null,
   "id": "71ca0c89",
   "metadata": {},
   "outputs": [],
   "source": [
    "URL = (\n",
    "    'https://cdn.cliqueinc.com/posts/289533/kamala-harris-face-mask-'\n",
    "    '289533-1602269219518-square.700x0c.jpg' )\n",
    "with urllib.request.urlopen(URL) as url:\n",
    "    with open('test.jpg', 'wb') as f:\n",
    "        f.write(url.read())\n",
    "image = Image.open('test.jpg')\n",
    "image"
   ]
  },
  {
   "cell_type": "code",
   "execution_count": null,
   "id": "6529031d",
   "metadata": {},
   "outputs": [],
   "source": [
    "n, img, accuracy = displaydetectedobject(image)"
   ]
  },
  {
   "cell_type": "code",
   "execution_count": null,
   "id": "05cbeb32",
   "metadata": {},
   "outputs": [],
   "source": [
    "parameters = {'epochs': epochs}\n",
    "result = cvstudioClient.report(\n",
    "    started=start_datetime,\n",
    "    completed=end_datetime,\n",
    "    parameters=parameters,\n",
    "    accuracy=round(float(accuracy),2)*100)\n",
    "if result.ok:\n",
    "    print(\n",
    "        'Congratulations your results have been reported back to CV '\n",
    "        'Studio!')"
   ]
  },
  {
   "cell_type": "code",
   "execution_count": null,
   "id": "5dc271a1",
   "metadata": {},
   "outputs": [],
   "source": [
    "%%capture\n",
    "!tensorflowjs_converter \\\n",
    "  --input_format=tf_frozen_model \\\n",
    "  --output_format=tfjs_graph_model \\\n",
    "  --output_node_names='Postprocessor/ExpandDims_1,Postprocessor/Slice' \\\n",
    "  --quantization_bytes=1 \\\n",
    "  --skip_op_check \\\n",
    "  $EXPORTED_PATH/frozen_inference_graph.pb \\\n",
    "  .\n",
    "\n",
    "label_map = get_label_map_dict(LABEL_MAP_PATH)\n",
    "label_array = [k for k in sorted(label_map, key=label_map.get)]\n",
    "with open(os.path.join('', 'labels.json'), 'w') as f:\n",
    "    json.dump(label_array, f)"
   ]
  },
  {
   "cell_type": "code",
   "execution_count": null,
   "id": "07c502c2",
   "metadata": {},
   "outputs": [],
   "source": [
    "with ZipFile('model_web.zip','w') as zip:\n",
    "    zip.write('group1-shard1of2.bin')\n",
    "    zip.write('group1-shard2of2.bin')\n",
    "    zip.write('model.json')\n",
    "    zip.write('labels.json')"
   ]
  },
  {
   "cell_type": "code",
   "execution_count": null,
   "id": "01f64bb1",
   "metadata": {},
   "outputs": [],
   "source": [
    "cvstudioClient.uploadModel('model_web.zip', {'epochs': epochs })"
   ]
  }
 ],
 "metadata": {
  "kernelspec": {
   "display_name": "Python 3 (ipykernel)",
   "language": "python",
   "name": "python3"
  },
  "language_info": {
   "codemirror_mode": {
    "name": "ipython",
    "version": 3
   },
   "file_extension": ".py",
   "mimetype": "text/x-python",
   "name": "python",
   "nbconvert_exporter": "python",
   "pygments_lexer": "ipython3",
   "version": "3.11.3"
  }
 },
 "nbformat": 4,
 "nbformat_minor": 5
}
