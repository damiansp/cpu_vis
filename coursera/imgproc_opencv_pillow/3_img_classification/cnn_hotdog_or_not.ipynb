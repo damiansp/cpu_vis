{
 "cells": [
  {
   "cell_type": "code",
   "execution_count": null,
   "id": "2efb71e0",
   "metadata": {},
   "outputs": [],
   "source": [
    "import copy\n",
    "from datetime import datetime\n",
    "import json\n",
    "import math\n",
    "import os\n",
    "import shutil\n",
    "import time\n",
    "import uuid\n",
    "\n",
    "from botocore.client import Config\n",
    "import ibm_boto3\n",
    "from ipywidgets import IntProgress\n",
    "import matplotlib.pyplot as plt\n",
    "from matplotlib.pyplot import imshow\n",
    "import numpy as np\n",
    "import pandas as pd\n",
    "from PIL import Image\n",
    "from skillsnetwork import cvstudio \n",
    "import torch\n",
    "import torch.nn as nn\n",
    "from torch.optim import lr_scheduler\n",
    "from torch.utils.data import Dataset, DataLoader,random_split\n",
    "from torchvision import transforms\n",
    "import torchvision.models as models\n",
    "from tqdm import tqdm\n",
    "\n",
    "torch.manual_seed(0)"
   ]
  },
  {
   "cell_type": "code",
   "execution_count": null,
   "id": "7f3c31c1",
   "metadata": {},
   "outputs": [],
   "source": [
    "def plot_stuff(cost, acc):    \n",
    "    fig, ax1 = plt.subplots()\n",
    "    color = 'tab:red'\n",
    "    ax1.plot(cost, color=color)\n",
    "    ax1.set_xlabel('Iteration', color=color)\n",
    "    ax1.set_ylabel('total loss', color=color)\n",
    "    ax1.tick_params(axis = 'y', color=color)\n",
    "    ax2 = ax1.twinx()  \n",
    "    color = 'tab:blue'\n",
    "    ax2.set_ylabel('accuracy', color=color)\n",
    "    ax2.plot(acc, color = color)\n",
    "    ax2.tick_params(axis = 'y', color = color)\n",
    "    fig.tight_layout()\n",
    "    plt.show()"
   ]
  },
  {
   "cell_type": "code",
   "execution_count": null,
   "id": "d3f908b8",
   "metadata": {},
   "outputs": [],
   "source": [
    "def imshow_(inp, title=None):\n",
    "    'Imshow for Tensor'\n",
    "    inp = inp .permute(1, 2, 0).numpy() \n",
    "    print(inp.shape)\n",
    "    mean = np.array([0.485, 0.456, 0.406])\n",
    "    std = np.array([0.229, 0.224, 0.225])\n",
    "    inp = std * inp + mean\n",
    "    inp = np.clip(inp, 0, 1)\n",
    "    plt.imshow(inp)\n",
    "    if title is not None:\n",
    "        plt.title(title)\n",
    "    plt.pause(0.001)  \n",
    "    plt.show()"
   ]
  },
  {
   "cell_type": "code",
   "execution_count": null,
   "id": "c824aab1",
   "metadata": {},
   "outputs": [],
   "source": [
    "def result(model, x, y):\n",
    "    z = model(x.unsqueeze_(0))\n",
    "    _, yhat = torch.max(z.data, 1)\n",
    "    if yhat.item() != y:\n",
    "        print(f'predicted: {yhat.item()} actual: {y}')"
   ]
  },
  {
   "cell_type": "code",
   "execution_count": null,
   "id": "b4596d99",
   "metadata": {},
   "outputs": [],
   "source": [
    "device = torch.device('cuda:0' if torch.cuda.is_available() else 'cpu')\n",
    "device"
   ]
  },
  {
   "cell_type": "code",
   "execution_count": null,
   "id": "4ff96d5f",
   "metadata": {},
   "outputs": [],
   "source": [
    "cvstudioClient = cvstudio.CVStudio()\n",
    "cvstudioClient.downloadAll()"
   ]
  },
  {
   "cell_type": "code",
   "execution_count": null,
   "id": "6bcaa283",
   "metadata": {},
   "outputs": [],
   "source": [
    "percentage_train = 0.9\n",
    "train_set=cvstudioClient.getDataset(\n",
    "    train_test='train', percentage_train=percentage_train)\n",
    "val_set=cvstudioClient.getDataset(\n",
    "    train_test='test', percentage_train=percentage_train)"
   ]
  },
  {
   "cell_type": "code",
   "execution_count": null,
   "id": "fcf4deec",
   "metadata": {},
   "outputs": [],
   "source": [
    "i = 0\n",
    "for x, y in val_set:\n",
    "    imshow_(x, f'y = {y.item()}')\n",
    "    i += 1\n",
    "    if i == 3:\n",
    "        break"
   ]
  },
  {
   "cell_type": "code",
   "execution_count": null,
   "id": "d16c1a2b",
   "metadata": {},
   "outputs": [],
   "source": [
    "n_epochs = 10\n",
    "batch_size = 32\n",
    "lr = 0.000001\n",
    "momentum = 0.9\n",
    "lr_scheduler = True\n",
    "base_lr = 0.001\n",
    "max_lr = 0.01"
   ]
  },
  {
   "cell_type": "code",
   "execution_count": null,
   "id": "6fd29ce8",
   "metadata": {},
   "outputs": [],
   "source": [
    "def train_model(\n",
    "        model, \n",
    "        train_loader,\n",
    "        validation_loader, \n",
    "        criterion, \n",
    "        optimizer, \n",
    "        n_epochs,\n",
    "        print_=True):\n",
    "    loss_list = []\n",
    "    accuracy_list = []\n",
    "    correct = 0\n",
    "    n_test = len(val_set)\n",
    "    accuracy_best = 0\n",
    "    best_model_wts = copy.deepcopy(model.state_dict())\n",
    "    print('The first epoch should take several minutes')\n",
    "    for epoch in tqdm(range(n_epochs)):        \n",
    "        loss_sublist = []\n",
    "        for x, y in train_loader:\n",
    "            x, y = x.to(device), y.to(device)\n",
    "            model.train() \n",
    "            z = model(x)\n",
    "            loss = criterion(z, y)\n",
    "            loss_sublist.append(loss.data.item())\n",
    "            loss.backward()\n",
    "            optimizer.step()\n",
    "            optimizer.zero_grad()\n",
    "        print(f'epoch {epoch} done')\n",
    "        scheduler.step()    \n",
    "        loss_list.append(np.mean(loss_sublist))\n",
    "        correct = 0\n",
    "        for x_test, y_test in validation_loader:\n",
    "            x_test, y_test = x_test.to(device), y_test.to(device)\n",
    "            model.eval()\n",
    "            z = model(x_test)\n",
    "            _, yhat = torch.max(z.data, 1)\n",
    "            correct += (yhat == y_test).sum().item()\n",
    "        accuracy = correct / n_test\n",
    "        accuracy_list.append(accuracy)\n",
    "        if accuracy > accuracy_best:\n",
    "            accuracy_best = accuracy\n",
    "            best_model_wts = copy.deepcopy(model.state_dict())\n",
    "        if print_:\n",
    "            print('learning rate', optimizer.param_groups[0]['lr'])\n",
    "            print(\n",
    "                f'The mean validation cost for each epoch {epoch + 1}: '\n",
    "                f'{np.mean(loss_sublist)}')\n",
    "            print(\n",
    "                f'The validation accuracy for epoch {epoch + 1}: '\n",
    "                f'{accuracy}') \n",
    "    model.load_state_dict(best_model_wts)    \n",
    "    return accuracy_list, loss_list, model"
   ]
  },
  {
   "cell_type": "code",
   "execution_count": null,
   "id": "36fed7d2",
   "metadata": {},
   "outputs": [],
   "source": [
    "model = models.resnet18(pretrained=True)"
   ]
  },
  {
   "cell_type": "code",
   "execution_count": null,
   "id": "82d40e41",
   "metadata": {},
   "outputs": [],
   "source": [
    "for param in model.parameters():\n",
    "    param.requires_grad = False"
   ]
  },
  {
   "cell_type": "code",
   "execution_count": null,
   "id": "e2f39de8",
   "metadata": {},
   "outputs": [],
   "source": [
    "n_classes=train_set.n_classes\n",
    "n_classes"
   ]
  },
  {
   "cell_type": "code",
   "execution_count": null,
   "id": "d3456203",
   "metadata": {},
   "outputs": [],
   "source": [
    "model.fc = nn.Linear(512, n_classes)\n",
    "model.to(device)"
   ]
  },
  {
   "cell_type": "code",
   "execution_count": null,
   "id": "9a5c4f7b",
   "metadata": {},
   "outputs": [],
   "source": [
    "criterion = nn.CrossEntropyLoss()\n",
    "train_loader = torch.utils.data.DataLoader(\n",
    "    dataset=train_set, batch_size=batch_size, shuffle=True)\n",
    "validation_loader = torch.utils.data.DataLoader(\n",
    "    dataset=val_set, batch_size=1)\n",
    "optimizer = torch.optim.SGD(\n",
    "    model.parameters(), lr=lr, momentum=momentum)"
   ]
  },
  {
   "cell_type": "code",
   "execution_count": null,
   "id": "c62809f9",
   "metadata": {},
   "outputs": [],
   "source": [
    "if lr_scheduler:\n",
    "    scheduler = torch.optim.lr_scheduler.CyclicLR(\n",
    "        optimizer, \n",
    "        base_lr=0.001, \n",
    "        max_lr=0.01,\n",
    "        step_size_up=5,\n",
    "        mode='triangular2')"
   ]
  },
  {
   "cell_type": "code",
   "execution_count": null,
   "id": "38fc8b38",
   "metadata": {},
   "outputs": [],
   "source": [
    "start_datetime = datetime.now()\n",
    "start_time=time.time()\n",
    "accuracy_list, loss_list, model = train_model(\n",
    "    model, \n",
    "    train_loader, \n",
    "    validation_loader, \n",
    "    criterion, \n",
    "    optimizer, \n",
    "    n_epochs = n_epochs)\n",
    "end_datetime = datetime.now()\n",
    "current_time = time.time()\n",
    "elapsed_time = current_time - start_time\n",
    "print('elapsed time:', elapsed_time )"
   ]
  },
  {
   "cell_type": "code",
   "execution_count": null,
   "id": "d51c7fff",
   "metadata": {},
   "outputs": [],
   "source": [
    "arameters = {\n",
    "    'epochs': n_epochs,\n",
    "    'learningRate': lr,\n",
    "    'momentum': momentum,\n",
    "    'percentage used training': percentage_train,\n",
    "    'learningRatescheduler': {\n",
    "        'lr_scheduler': lr_scheduler,\n",
    "        'base_lr': base_lr, \n",
    "        'max_lr' :max_lr}}\n",
    "result = cvstudioClient.report(\n",
    "    started=start_datetime,\n",
    "    completed=end_datetime,\n",
    "    parameters=parameters,\n",
    "    accuracy={'accuracy': accuracy_list, 'loss': loss_list})\n",
    "if result.ok:\n",
    "    print(\n",
    "        'Congratulations your results have been reported back to CV '\n",
    "        'Studio!')"
   ]
  },
  {
   "cell_type": "code",
   "execution_count": null,
   "id": "2a732c29",
   "metadata": {},
   "outputs": [],
   "source": [
    "torch.save(model.state_dict(), 'model.pt')\n",
    "result = cvstudioClient.uploadModel(\n",
    "    'model.pt', {'numClasses': n_classes})"
   ]
  },
  {
   "cell_type": "code",
   "execution_count": null,
   "id": "95e9295b",
   "metadata": {},
   "outputs": [],
   "source": [
    "plot_stuff(loss_list, accuracy_list)"
   ]
  },
  {
   "cell_type": "code",
   "execution_count": null,
   "id": "e57f40f0",
   "metadata": {},
   "outputs": [],
   "source": [
    "model = models.resnet18(pretrained=True)\n",
    "model.fc = nn.Linear(512, n_classes)\n",
    "model.load_state_dict(torch.load('model.pt'))\n",
    "model.eval()"
   ]
  }
 ],
 "metadata": {
  "kernelspec": {
   "display_name": "Python 3 (ipykernel)",
   "language": "python",
   "name": "python3"
  },
  "language_info": {
   "codemirror_mode": {
    "name": "ipython",
    "version": 3
   },
   "file_extension": ".py",
   "mimetype": "text/x-python",
   "name": "python",
   "nbconvert_exporter": "python",
   "pygments_lexer": "ipython3",
   "version": "3.11.3"
  }
 },
 "nbformat": 4,
 "nbformat_minor": 5
}
